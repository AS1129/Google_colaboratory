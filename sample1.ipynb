{
  "nbformat": 4,
  "nbformat_minor": 0,
  "metadata": {
    "colab": {
      "name": "sample1.ipynb",
      "provenance": [],
      "collapsed_sections": [],
      "authorship_tag": "ABX9TyOAC4ALezbMd1Tn0J/pOMec",
      "include_colab_link": true
    },
    "kernelspec": {
      "name": "python3",
      "display_name": "Python 3"
    },
    "language_info": {
      "name": "python"
    }
  },
  "cells": [
    {
      "cell_type": "markdown",
      "metadata": {
        "id": "view-in-github",
        "colab_type": "text"
      },
      "source": [
        "<a href=\"https://colab.research.google.com/github/AS1129/Google_colaboratory/blob/main/sample1.ipynb\" target=\"_parent\"><img src=\"https://colab.research.google.com/assets/colab-badge.svg\" alt=\"Open In Colab\"/></a>"
      ]
    },
    {
      "cell_type": "code",
      "execution_count": 8,
      "metadata": {
        "colab": {
          "base_uri": "https://localhost:8080/"
        },
        "id": "7Twa7I4U52-7",
        "outputId": "9910ae61-37a5-4750-d188-95ab2adf7ef0"
      },
      "outputs": [
        {
          "output_type": "stream",
          "name": "stdout",
          "text": [
            "Drive already mounted at /content/drive; to attempt to forcibly remount, call drive.mount(\"/content/drive\", force_remount=True).\n"
          ]
        }
      ],
      "source": [
        "from google.colab import drive\n",
        "drive.mount('/content/drive')"
      ]
    },
    {
      "cell_type": "code",
      "source": [
        "import os\n",
        "print(\"カレントワーキングディレクトリは[\" + os.getcwd() + \"]です\")\n",
        "_colab_dir = \"/content/drive/MyDrive/Colab Notebooks/sample\"\n",
        "os.chdir(_colab_dir)\n",
        "print(\"カレントワーキングディレクトリは[\" + os.getcwd() + \"]です\")"
      ],
      "metadata": {
        "colab": {
          "base_uri": "https://localhost:8080/"
        },
        "id": "vGaS0ijq746x",
        "outputId": "51c38803-13a5-47ef-bbb8-65a28f394243"
      },
      "execution_count": 9,
      "outputs": [
        {
          "output_type": "stream",
          "name": "stdout",
          "text": [
            "カレントワーキングディレクトリは[/content/drive/My Drive/Colab Notebooks/sample]です\n",
            "カレントワーキングディレクトリは[/content/drive/MyDrive/Colab Notebooks/sample]です\n"
          ]
        }
      ]
    },
    {
      "cell_type": "code",
      "source": [
        "print(\"カレントワーキングディレクトリは[\" + os.getcwd() + \"]です\")\n",
        "\n",
        "from sample2 import test\n",
        "\n",
        "test()"
      ],
      "metadata": {
        "colab": {
          "base_uri": "https://localhost:8080/"
        },
        "id": "5wqwGkCg5_u5",
        "outputId": "54624d7c-5aad-4e56-fd36-29302dffe9ea"
      },
      "execution_count": 10,
      "outputs": [
        {
          "output_type": "stream",
          "name": "stdout",
          "text": [
            "カレントワーキングディレクトリは[/content/drive/MyDrive/Colab Notebooks/sample]です\n",
            "great!!\n"
          ]
        }
      ]
    }
  ]
}