{
  "nbformat": 4,
  "nbformat_minor": 0,
  "metadata": {
    "colab": {
      "name": "Deeplearn.py",
      "provenance": [],
      "collapsed_sections": [],
      "toc_visible": true,
      "authorship_tag": "ABX9TyOyx6+SlnV8h119Xp+UIuzs",
      "include_colab_link": true
    },
    "kernelspec": {
      "name": "python3",
      "display_name": "Python 3"
    },
    "language_info": {
      "name": "python"
    },
    "accelerator": "GPU"
  },
  "cells": [
    {
      "cell_type": "markdown",
      "metadata": {
        "id": "view-in-github",
        "colab_type": "text"
      },
      "source": [
        "<a href=\"https://colab.research.google.com/github/AS1129/Google_colaboratory/blob/main/Deeplearn_py.ipynb\" target=\"_parent\"><img src=\"https://colab.research.google.com/assets/colab-badge.svg\" alt=\"Open In Colab\"/></a>"
      ]
    },
    {
      "cell_type": "code",
      "execution_count": 5,
      "metadata": {
        "id": "W1VWr0KHFkK7",
        "colab": {
          "base_uri": "https://localhost:8080/"
        },
        "outputId": "8e0bb1d1-12fa-4604-f200-d0c35fd947f6"
      },
      "outputs": [
        {
          "output_type": "stream",
          "name": "stdout",
          "text": [
            "Hello world!\n",
            "Drive already mounted at /content/drive; to attempt to forcibly remount, call drive.mount(\"/content/drive\", force_remount=True).\n",
            "MyDrive\n"
          ]
        }
      ],
      "source": [
        "import chainer\n",
        "import chainer.functions as F\n",
        "import chainer.links as L\n",
        "\n",
        "# 1-2層間のパラメータ\n",
        "w1 = np.array([[3, 1, 2], [-2, -3, -1]], dtype=np.float32)\n",
        "b1 = np.array([0, 0], dtype=np.float32)\n",
        "\n",
        "l1 = L.Linear(2, initialW=w1, initial_bias=b1)\n",
        "\n",
        "# 2-3層間のパラメータ\n",
        "w2 = np.array([[3, 2]], dtype=np.float32)\n",
        "b2 = np.array([0], dtype=np.float32)\n",
        "\n",
        "l2 = L.Linear(1, initialW=w2, initial_bias=b2)\n",
        "\n",
        "# 入力\n",
        "x = np.array([[2, 3, 1]], dtype=np.float32)\n",
        "\n",
        "# 出力\n",
        "y = l2(F.sigmoid(l1(x)))\n",
        "print(y)  # => should be [2.99995156]\n",
        "\n",
        "# 正解\n",
        "t = np.array([[20.]], dtype=np.float32)\n",
        "\n",
        "# ロス\n",
        "loss = F.mean_squared_error(y, t)\n",
        "\n",
        "# dLdw_2\n",
        "print(chainer.grad([loss], [l2.W]))  # => should be [-3.39995290e+01 -2.82720335e-05]\n",
        "\n",
        "# dLdw_1\n",
        "print(chainer.grad([loss], [l1.W]))  # => should be [[-3.40704286e-03 -5.11056429e-03 -1.70352143e-03]"
      ]
    },
    {
      "cell_type": "markdown",
      "source": [
        "# 新しいセクション"
      ],
      "metadata": {
        "id": "BMnz9z4XIX3O"
      }
    },
    {
      "cell_type": "markdown",
      "source": [
        "# 新しいセクション"
      ],
      "metadata": {
        "id": "kcHqGrSUIYSN"
      }
    }
  ]
}